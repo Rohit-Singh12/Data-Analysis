{
  "nbformat": 4,
  "nbformat_minor": 0,
  "metadata": {
    "colab": {
      "provenance": [],
      "authorship_tag": "ABX9TyM7M9DQfzIboxTwxddwuudA",
      "include_colab_link": true
    },
    "kernelspec": {
      "name": "python3",
      "display_name": "Python 3"
    },
    "language_info": {
      "name": "python"
    }
  },
  "cells": [
    {
      "cell_type": "markdown",
      "metadata": {
        "id": "view-in-github",
        "colab_type": "text"
      },
      "source": [
        "<a href=\"https://colab.research.google.com/github/Rohit-Singh12/Data-Analysis/blob/main/Spark/Distributed_Spark.ipynb\" target=\"_parent\"><img src=\"https://colab.research.google.com/assets/colab-badge.svg\" alt=\"Open In Colab\"/></a>"
      ]
    },
    {
      "cell_type": "markdown",
      "source": [
        "Reference: Coursera PySpark Course\n",
        "https://www.coursera.org/learn/machine-learning-with-apache-spark/ungradedLti/nmhLJ/hands-on-lab-distributed-architecture-of-spark"
      ],
      "metadata": {
        "id": "MsvuNPrqd6wG"
      }
    },
    {
      "cell_type": "code",
      "execution_count": 1,
      "metadata": {
        "id": "LV8d5t7d9DPy",
        "colab": {
          "base_uri": "https://localhost:8080/"
        },
        "outputId": "2a53210b-754d-4e38-8a78-349bb9b125a6"
      },
      "outputs": [
        {
          "output_type": "stream",
          "name": "stdout",
          "text": [
            "Requirement already satisfied: pyspark in /usr/local/lib/python3.11/dist-packages (3.5.1)\n",
            "Collecting findspark\n",
            "  Downloading findspark-2.0.1-py2.py3-none-any.whl.metadata (352 bytes)\n",
            "Requirement already satisfied: py4j==0.10.9.7 in /usr/local/lib/python3.11/dist-packages (from pyspark) (0.10.9.7)\n",
            "Downloading findspark-2.0.1-py2.py3-none-any.whl (4.4 kB)\n",
            "Installing collected packages: findspark\n",
            "Successfully installed findspark-2.0.1\n"
          ]
        }
      ],
      "source": [
        "!pip install pyspark findspark"
      ]
    },
    {
      "cell_type": "markdown",
      "source": [
        "# Import necessary spark libraries"
      ],
      "metadata": {
        "id": "h-4l8RL5Of2K"
      }
    },
    {
      "cell_type": "code",
      "source": [
        "# findspark simplifies the usage of pyspark\n",
        "import findspark\n",
        "findspark.init()"
      ],
      "metadata": {
        "id": "DzE1HGCRtGiX"
      },
      "execution_count": 4,
      "outputs": []
    },
    {
      "cell_type": "code",
      "source": [
        "from pyspark.sql import SparkSession"
      ],
      "metadata": {
        "id": "QfpT9gukyHKh"
      },
      "execution_count": 5,
      "outputs": []
    },
    {
      "cell_type": "markdown",
      "source": [
        "# Initialize spark Context\n",
        "Set the name of spark context"
      ],
      "metadata": {
        "id": "URWFug3-OpwC"
      }
    },
    {
      "cell_type": "code",
      "source": [
        "from pyspark import SparkContext\n",
        "from datetime import datetime\n",
        "\n",
        "# Initialize spark context\n",
        "sc = SparkContext(appName=\"RetailStoreSalesAnalysis\")"
      ],
      "metadata": {
        "id": "cekHgwJSObW8"
      },
      "execution_count": 28,
      "outputs": []
    },
    {
      "cell_type": "code",
      "source": [
        "!wget https://cf-courses-data.s3.us.cloud-object-storage.appdomain.cloud/XXlNzqYcxqkTbllc-tL_0w/Retailsales.csv"
      ],
      "metadata": {
        "colab": {
          "base_uri": "https://localhost:8080/"
        },
        "id": "GOao8oBeO8FK",
        "outputId": "c60a2ca7-3815-43ba-bfe5-45a0ed1d0bb2"
      },
      "execution_count": 29,
      "outputs": [
        {
          "output_type": "stream",
          "name": "stdout",
          "text": [
            "--2025-06-28 06:47:15--  https://cf-courses-data.s3.us.cloud-object-storage.appdomain.cloud/XXlNzqYcxqkTbllc-tL_0w/Retailsales.csv\n",
            "Resolving cf-courses-data.s3.us.cloud-object-storage.appdomain.cloud (cf-courses-data.s3.us.cloud-object-storage.appdomain.cloud)... 169.45.118.108\n",
            "Connecting to cf-courses-data.s3.us.cloud-object-storage.appdomain.cloud (cf-courses-data.s3.us.cloud-object-storage.appdomain.cloud)|169.45.118.108|:443... connected.\n",
            "HTTP request sent, awaiting response... 200 OK\n",
            "Length: 47593992 (45M) [text/csv]\n",
            "Saving to: ‘Retailsales.csv.1’\n",
            "\n",
            "Retailsales.csv.1   100%[===================>]  45.39M  38.7MB/s    in 1.2s    \n",
            "\n",
            "2025-06-28 06:47:17 (38.7 MB/s) - ‘Retailsales.csv.1’ saved [47593992/47593992]\n",
            "\n"
          ]
        }
      ]
    },
    {
      "cell_type": "markdown",
      "source": [
        "# Visualize data"
      ],
      "metadata": {
        "id": "LVGfjn0kRjNZ"
      }
    },
    {
      "cell_type": "code",
      "source": [
        "spark_session = SparkSession.builder.appName(\"RetailStoreSalesAnalysis\").getOrCreate()"
      ],
      "metadata": {
        "id": "Qk8BFpaZRiuW"
      },
      "execution_count": 30,
      "outputs": []
    },
    {
      "cell_type": "code",
      "source": [
        "spark_data = spark_session.read.csv('Retailsales.csv', header=True, inferSchema=True)"
      ],
      "metadata": {
        "id": "tBebXowySHOH"
      },
      "execution_count": 31,
      "outputs": []
    },
    {
      "cell_type": "code",
      "source": [
        "spark_data.printSchema()"
      ],
      "metadata": {
        "colab": {
          "base_uri": "https://localhost:8080/"
        },
        "id": "G2M2cmXESR6Q",
        "outputId": "662652da-1dc2-481f-d5e0-4f5e3973ed29"
      },
      "execution_count": 32,
      "outputs": [
        {
          "output_type": "stream",
          "name": "stdout",
          "text": [
            "root\n",
            " |-- product_id: string (nullable = true)\n",
            " |-- store_id: string (nullable = true)\n",
            " |-- date: string (nullable = true)\n",
            " |-- sales: double (nullable = true)\n",
            " |-- revenue: double (nullable = true)\n",
            " |-- stock: integer (nullable = true)\n",
            " |-- price: double (nullable = true)\n",
            " |-- promo_type_1: string (nullable = true)\n",
            " |-- promo_bin_1: string (nullable = true)\n",
            " |-- promo_type_2: string (nullable = true)\n",
            "\n"
          ]
        }
      ]
    },
    {
      "cell_type": "code",
      "source": [
        "spark_data.head(5)"
      ],
      "metadata": {
        "colab": {
          "base_uri": "https://localhost:8080/"
        },
        "id": "31B7iMmlSXQ6",
        "outputId": "20a0f3a9-eb79-443b-c755-56447a7065c2"
      },
      "execution_count": 33,
      "outputs": [
        {
          "output_type": "execute_result",
          "data": {
            "text/plain": [
              "[Row(product_id='P0001', store_id='S0002', date='1/2/2017', sales=0.0, revenue=0.0, stock=8, price=6.25, promo_type_1='PR14', promo_bin_1=None, promo_type_2='PR03'),\n",
              " Row(product_id='P0001', store_id='S0012', date='1/2/2017', sales=1.0, revenue=5.3, stock=0, price=6.25, promo_type_1='PR14', promo_bin_1=None, promo_type_2='PR03'),\n",
              " Row(product_id='P0001', store_id='S0013', date='1/2/2017', sales=2.0, revenue=10.59, stock=0, price=6.25, promo_type_1='PR14', promo_bin_1=None, promo_type_2='PR03'),\n",
              " Row(product_id='P0001', store_id='S0023', date='1/2/2017', sales=0.0, revenue=0.0, stock=6, price=6.25, promo_type_1='PR14', promo_bin_1=None, promo_type_2='PR03'),\n",
              " Row(product_id='P0001', store_id='S0025', date='1/2/2017', sales=0.0, revenue=0.0, stock=1, price=6.25, promo_type_1='PR14', promo_bin_1=None, promo_type_2='PR03')]"
            ]
          },
          "metadata": {},
          "execution_count": 33
        }
      ]
    },
    {
      "cell_type": "code",
      "source": [
        "# spark_session.stop()"
      ],
      "metadata": {
        "id": "B1Os7OFOSbqt"
      },
      "execution_count": 34,
      "outputs": []
    },
    {
      "cell_type": "markdown",
      "source": [
        "# Loading Dataset"
      ],
      "metadata": {
        "id": "9HkBL-LePHIz"
      }
    },
    {
      "cell_type": "code",
      "source": [
        "# The data is downloaded as RDD (Retail Distributed Dataset)\n",
        "raw_data = sc.textFile(\"Retailsales.csv\")"
      ],
      "metadata": {
        "id": "zSgJXKg5O_T6"
      },
      "execution_count": 35,
      "outputs": []
    },
    {
      "cell_type": "code",
      "source": [
        "type(raw_data)"
      ],
      "metadata": {
        "colab": {
          "base_uri": "https://localhost:8080/",
          "height": 173
        },
        "id": "vDsy90xtPQxk",
        "outputId": "7e95c341-e7ce-4765-fd0b-ba3968e1298a"
      },
      "execution_count": 36,
      "outputs": [
        {
          "output_type": "execute_result",
          "data": {
            "text/plain": [
              "pyspark.rdd.RDD"
            ],
            "text/html": [
              "<div style=\"max-width:800px; border: 1px solid var(--colab-border-color);\"><style>\n",
              "      pre.function-repr-contents {\n",
              "        overflow-x: auto;\n",
              "        padding: 8px 12px;\n",
              "        max-height: 500px;\n",
              "      }\n",
              "\n",
              "      pre.function-repr-contents.function-repr-contents-collapsed {\n",
              "        cursor: pointer;\n",
              "        max-height: 100px;\n",
              "      }\n",
              "    </style>\n",
              "    <pre style=\"white-space: initial; background:\n",
              "         var(--colab-secondary-surface-color); padding: 8px 12px;\n",
              "         border-bottom: 1px solid var(--colab-border-color);\"><b>pyspark.rdd.RDD</b><br/>def __init__(jrdd: &#x27;JavaObject&#x27;, ctx: &#x27;SparkContext&#x27;, jrdd_deserializer: Serializer=AutoBatchedSerializer(CPickleSerializer()))</pre><pre class=\"function-repr-contents function-repr-contents-collapsed\" style=\"\"><a class=\"filepath\" style=\"display:none\" href=\"#\">/usr/local/lib/python3.11/dist-packages/pyspark/rdd.py</a>A Resilient Distributed Dataset (RDD), the basic abstraction in Spark.\n",
              "Represents an immutable, partitioned collection of elements that can be\n",
              "operated on in parallel.</pre>\n",
              "      <script>\n",
              "      if (google.colab.kernel.accessAllowed && google.colab.files && google.colab.files.view) {\n",
              "        for (const element of document.querySelectorAll('.filepath')) {\n",
              "          element.style.display = 'block'\n",
              "          element.onclick = (event) => {\n",
              "            event.preventDefault();\n",
              "            event.stopPropagation();\n",
              "            google.colab.files.view(element.textContent, 336);\n",
              "          };\n",
              "        }\n",
              "      }\n",
              "      for (const element of document.querySelectorAll('.function-repr-contents')) {\n",
              "        element.onclick = (event) => {\n",
              "          event.preventDefault();\n",
              "          event.stopPropagation();\n",
              "          element.classList.toggle('function-repr-contents-collapsed');\n",
              "        };\n",
              "      }\n",
              "      </script>\n",
              "      </div>"
            ]
          },
          "metadata": {},
          "execution_count": 36
        }
      ]
    },
    {
      "cell_type": "code",
      "source": [],
      "metadata": {
        "id": "20Dy8Rn_RZYi"
      },
      "execution_count": 36,
      "outputs": []
    },
    {
      "cell_type": "markdown",
      "source": [
        "# Parsing and cleaning Dataset"
      ],
      "metadata": {
        "id": "PT1WNGuUPjE5"
      }
    },
    {
      "cell_type": "code",
      "source": [
        "def parse_line(line):\n",
        "  fields = line.split(',')\n",
        "  return {\n",
        "      'product_id': fields[0],\n",
        "      'store_id': fields[1],\n",
        "      'date': fields[2],\n",
        "      'sales': float(fields[3]),\n",
        "      'revenue': float(fields[4]),\n",
        "      'stock': float(fields[5]),\n",
        "      'price': float(fields[6]),\n",
        "      'promo_type_1': fields[7],\n",
        "      'promo_type_2': fields[9]\n",
        "  }"
      ],
      "metadata": {
        "id": "qlwJ61v_PbpC"
      },
      "execution_count": 39,
      "outputs": []
    },
    {
      "cell_type": "code",
      "source": [
        "header = raw_data.first()\n",
        "header"
      ],
      "metadata": {
        "colab": {
          "base_uri": "https://localhost:8080/",
          "height": 36
        },
        "id": "w6o4805FQBoB",
        "outputId": "ac9d5a4b-8ed4-4cf9-8bd0-e7e4dc818f7c"
      },
      "execution_count": 40,
      "outputs": [
        {
          "output_type": "execute_result",
          "data": {
            "text/plain": [
              "'product_id,store_id,date,sales,revenue,stock,price,promo_type_1,promo_bin_1,promo_type_2'"
            ],
            "application/vnd.google.colaboratory.intrinsic+json": {
              "type": "string"
            }
          },
          "metadata": {},
          "execution_count": 40
        }
      ]
    },
    {
      "cell_type": "code",
      "source": [
        "raw_data_no_header = raw_data.filter(lambda x: x != header)"
      ],
      "metadata": {
        "id": "m-WHZLtEQEy8"
      },
      "execution_count": 41,
      "outputs": []
    },
    {
      "cell_type": "code",
      "source": [
        "parsed_data = raw_data_no_header.map(parse_line)"
      ],
      "metadata": {
        "id": "Ezj-DU5mQOxd"
      },
      "execution_count": 42,
      "outputs": []
    },
    {
      "cell_type": "code",
      "source": [
        "parsed_data = parsed_data.filter(lambda x: x is not None)\n",
        "cleaned_data = parsed_data.filter(lambda x: x['sales'] > 0 and x['price'] > 0)"
      ],
      "metadata": {
        "id": "eBe-s6fRQaBZ"
      },
      "execution_count": 43,
      "outputs": []
    },
    {
      "cell_type": "markdown",
      "source": [
        "# Partitioning"
      ],
      "metadata": {
        "id": "tqRQGSI9QsJi"
      }
    },
    {
      "cell_type": "code",
      "source": [
        "cleaned_data.getNumPartitions()"
      ],
      "metadata": {
        "colab": {
          "base_uri": "https://localhost:8080/"
        },
        "id": "jyWVCVvbQpUQ",
        "outputId": "f3273faa-6a92-41fd-bdad-fd249d23420f"
      },
      "execution_count": 44,
      "outputs": [
        {
          "output_type": "execute_result",
          "data": {
            "text/plain": [
              "2"
            ]
          },
          "metadata": {},
          "execution_count": 44
        }
      ]
    },
    {
      "cell_type": "markdown",
      "source": [
        "# Partition wise count\n",
        "Number of counts in each partition"
      ],
      "metadata": {
        "id": "QFKuwqzhSvDU"
      }
    },
    {
      "cell_type": "code",
      "source": [
        "def count_in_partition(idx, itr):\n",
        "  count = sum(1 for _ in itr)\n",
        "  yield (idx, count)"
      ],
      "metadata": {
        "id": "sDB3TPODQxgT"
      },
      "execution_count": 45,
      "outputs": []
    },
    {
      "cell_type": "code",
      "source": [
        "partition_info = cleaned_data.mapPartitionsWithIndex(count_in_partition).collect()\n",
        "for idx, count in partition_info:\n",
        "  print(f\"Partition {idx} : count {count}\")"
      ],
      "metadata": {
        "colab": {
          "base_uri": "https://localhost:8080/"
        },
        "id": "mQYznrMBTYcx",
        "outputId": "2abc3b8e-9f13-41ae-e05f-11825c555412"
      },
      "execution_count": 46,
      "outputs": [
        {
          "output_type": "stream",
          "name": "stdout",
          "text": [
            "Partition 0 : count 97534\n",
            "Partition 1 : count 99127\n"
          ]
        }
      ]
    },
    {
      "cell_type": "markdown",
      "source": [
        "# Aggregations"
      ],
      "metadata": {
        "id": "kPpQY2jJUVwL"
      }
    },
    {
      "cell_type": "code",
      "source": [
        "# Total sales and revenue per product\n",
        "sales_revenue_per_product = cleaned_data.map(lambda x: (x['product_id'], (x['sales'], x['revenue']))) \\\n",
        "                                        .reduceByKey(lambda a, b : (a[0]+b[0], a[1]+b[1]))"
      ],
      "metadata": {
        "id": "n__dE-z5TwMR"
      },
      "execution_count": 47,
      "outputs": []
    },
    {
      "cell_type": "code",
      "source": [
        "format_string = f\"{{:<5}} | {{: <9}} | {{:<9}}\"\n",
        "for product in sales_revenue_per_product.collect():\n",
        "  print(format_string.format(str(product[0]), str(round(product[1][0],2)), str(round(product[1][1],2))))"
      ],
      "metadata": {
        "colab": {
          "base_uri": "https://localhost:8080/"
        },
        "id": "_ihwkByScmRU",
        "outputId": "f7e5f0e1-480b-45a2-d737-52f5bb18981f"
      },
      "execution_count": 59,
      "outputs": [
        {
          "output_type": "stream",
          "name": "stdout",
          "text": [
            "P0001 | 130.0     | 708.48   \n",
            "P0004 | 41.0      | 156.25   \n",
            "P0015 | 1555.0    | 3530.56  \n",
            "P0024 | 288.0     | 517.23   \n",
            "P0046 | 425.0     | 10310.79 \n",
            "P0051 | 26381.0   | 16782.56 \n",
            "P0057 | 233.0     | 2478.77  \n",
            "P0079 | 5464.0    | 10949.09 \n",
            "P0092 | 2567.0    | 3953.26  \n",
            "P0102 | 31.0      | 2776.98  \n",
            "P0109 | 308.0     | 2345.69  \n",
            "P0110 | 1123.0    | 2933.74  \n",
            "P0125 | 5089.0    | 13873.31 \n",
            "P0129 | 13106.0   | 295934.59\n",
            "P0132 | 359.0     | 1933.87  \n",
            "P0134 | 260.0     | 1678.19  \n",
            "P0137 | 55.0      | 1042.91  \n",
            "P0140 | 3077.0    | 16841.9  \n",
            "P0148 | 705.0     | 3681.21  \n",
            "P0157 | 513.0     | 3366.49  \n",
            "P0162 | 399.0     | 1032.92  \n",
            "P0165 | 420.0     | 545.31   \n",
            "P0171 | 1007.0    | 9962.67  \n",
            "P0174 | 282.0     | 783.72   \n",
            "P0187 | 223.0     | 3394.17  \n",
            "P0197 | 1560.0    | 4895.49  \n",
            "P0201 | 412.0     | 5057.87  \n",
            "P0204 | 90.0      | 405.97   \n",
            "P0211 | 107.0     | 811.1    \n",
            "P0214 | 10.0      | 35.02    \n",
            "P0220 | 797.0     | 1291.14  \n",
            "P0225 | 93.0      | 163.29   \n",
            "P0226 | 666.0     | 973.51   \n",
            "P0229 | 97.0      | 611.21   \n",
            "P0252 | 109.0     | 1433.75  \n",
            "P0258 | 392.0     | 2492.39  \n",
            "P0260 | 913.0     | 14283.08 \n",
            "P0261 | 9501.0    | 36815.99 \n",
            "P0263 | 22.0      | 321.67   \n",
            "P0267 | 468.0     | 1208.13  \n",
            "P0268 | 1828.0    | 1693.54  \n",
            "P0277 | 2126.0    | 6782.87  \n",
            "P0280 | 1267.0    | 6212.35  \n",
            "P0282 | 4956.0    | 5808.11  \n",
            "P0287 | 602.0     | 4054.69  \n",
            "P0294 | 260.0     | 204.69   \n",
            "P0297 | 164.0     | 2269.83  \n",
            "P0311 | 4085.0    | 4085.0   \n",
            "P0325 | 3329.0    | 27285.9  \n",
            "P0332 | 175.0     | 4954.35  \n",
            "P0333 | 11697.0   | 19883.82 \n",
            "P0336 | 531.0     | 10193.62 \n",
            "P0345 | 620.0     | 1823.99  \n",
            "P0348 | 6134.0    | 11476.97 \n",
            "P0356 | 1266.0    | 2926.9   \n",
            "P0364 | 23065.0   | 20596.95 \n",
            "P0369 | 107.0     | 1852.74  \n",
            "P0376 | 372.0     | 1622.52  \n",
            "P0377 | 242.0     | 2178.0   \n",
            "P0382 | 194.0     | 2954.84  \n",
            "P0390 | 915.0     | 9050.05  \n",
            "P0400 | 572.0     | 4290.0   \n",
            "P0406 | 328.0     | 2765.1   \n",
            "P0408 | 386.0     | 7712.12  \n",
            "P0417 | 278.0     | 1390.58  \n",
            "P0425 | 754.0     | 2960.52  \n",
            "P0427 | 2286.0    | 4625.3   \n",
            "P0432 | 49.0      | 618.83   \n",
            "P0448 | 863.0     | 3060.06  \n",
            "P0483 | 900.0     | 9000.0   \n",
            "P0484 | 7.08      | 196.02   \n",
            "P0500 | 8694.0    | 44263.92 \n",
            "P0510 | 73.0      | 1382.78  \n",
            "P0514 | 498.0     | 4421.0   \n",
            "P0527 | 1734.0    | 2778.15  \n",
            "P0533 | 312.0     | 2042.34  \n",
            "P0534 | 183.0     | 338.67   \n",
            "P0543 | 1355.0    | 3125.62  \n",
            "P0550 | 144.6     | 8688.18  \n",
            "P0551 | 1185.0    | 2028.42  \n",
            "P0557 | 608.0     | 7571.66  \n",
            "P0569 | 12659.0   | 30461.95 \n",
            "P0572 | 5523.0    | 4914.6   \n",
            "P0574 | 3435.0    | 5337.8   \n",
            "P0582 | 192.0     | 1468.03  \n",
            "P0585 | 338.0     | 3629.82  \n",
            "P0590 | 19334.0   | 8694.91  \n",
            "P0608 | 1480.0    | 10499.17 \n",
            "P0609 | 76.0      | 66.33    \n",
            "P0610 | 2183.53   | 12548.16 \n",
            "P0611 | 564.0     | 7833.0   \n",
            "P0614 | 381.0     | 5014.7   \n",
            "P0635 | 191.0     | 769.44   \n",
            "P0639 | 3203.0    | 16127.95 \n",
            "P0640 | 191.0     | 2612.74  \n",
            "P0651 | 625.0     | 5574.34  \n",
            "P0652 | 859.0     | 2869.38  \n",
            "P0654 | 95.0      | 873.63   \n",
            "P0655 | 150.0     | 6240.57  \n",
            "P0663 | 3580.0    | 12022.02 \n",
            "P0665 | 601.0     | 5980.31  \n",
            "P0671 | 1710.0    | 4064.6   \n",
            "P0673 | 323.0     | 2457.58  \n",
            "P0690 | 1211.0    | 8670.55  \n",
            "P0697 | 89.0      | 1555.47  \n",
            "P0704 | 3102.0    | 5246.25  \n",
            "P0705 | 1006.0    | 8416.82  \n",
            "P0712 | 316.0     | 6255.69  \n",
            "P0735 | 772.0     | 5964.38  \n",
            "P0005 | 38.0      | 1091.74  \n",
            "P0059 | 12.0      | 84.37    \n",
            "P0340 | 99.0      | 2820.21  \n",
            "P0358 | 284.0     | 587.28   \n",
            "P0515 | 3.0       | 527.31   \n",
            "P0599 | 27.0      | 259.09   \n",
            "P0657 | 184.0     | 1331.79  \n",
            "P0707 | 104.0     | 851.79   \n",
            "P0011 | 21.0      | 888.08   \n",
            "P0126 | 25.0      | 421.51   \n",
            "P0145 | 27.0      | 148.15   \n",
            "P0231 | 83.0      | 509.89   \n",
            "P0491 | 35.0      | 726.61   \n",
            "P0571 | 35.0      | 1094.45  \n",
            "P0647 | 112.0     | 1446.8   \n",
            "P0163 | 63.0      | 574.94   \n",
            "P0329 | 54.0      | 388.93   \n",
            "P0203 | 36.0      | 416.62   \n",
            "P0393 | 38.0      | 435.3    \n",
            "P0456 | 120.0     | 1031.26  \n",
            "P0556 | 75.0      | 877.56   \n",
            "P0625 | 45.0      | 452.36   \n",
            "P0278 | 17.0      | 226.09   \n",
            "P0503 | 58.0      | 939.63   \n",
            "P0583 | 8.0       | 250.16   \n",
            "P0477 | 37.0      | 122.48   \n",
            "P0703 | 21.0      | 989.79   \n",
            "P0492 | 49.0      | 2245.73  \n",
            "P0178 | 16.0      | 172.96   \n",
            "P0290 | 19.0      | 175.03   \n",
            "P0089 | 33.0      | 167.62   \n",
            "P0525 | 999.0     | 1692.67  \n",
            "P0591 | 12.0      | 80.04    \n",
            "P0740 | 43.0      | 404.41   \n",
            "P0215 | 3.0       | 46.95    \n",
            "P0688 | 17.0      | 50.56    \n",
            "P0420 | 19.0      | 7.4      \n",
            "P0423 | 1.0       | 0.54     \n",
            "P0710 | 1.0       | 0.78     \n",
            "P0170 | 3.0       | 177.72   \n",
            "P0398 | 539.0     | 12287.72 \n",
            "P0044 | 1879.0    | 11044.21 \n",
            "P0305 | 28.0      | 839.96   \n",
            "P0662 | 14.0      | 166.14   \n",
            "P0330 | 5.0       | 5.08     \n",
            "P0353 | 56.0      | 355.95   \n",
            "P0016 | 60.0      | 111.08   \n",
            "P0017 | 6396.0    | 7355.12  \n",
            "P0018 | 1340.0    | 2374.91  \n",
            "P0035 | 4835.0    | 12957.98 \n",
            "P0054 | 643.0     | 2352.69  \n",
            "P0055 | 1136.0    | 3650.86  \n",
            "P0060 | 218.0     | 2867.84  \n",
            "P0067 | 286.0     | 3799.19  \n",
            "P0068 | 255.0     | 1188.18  \n",
            "P0070 | 1366.0    | 6895.11  \n",
            "P0071 | 63.0      | 484.85   \n",
            "P0073 | 53.0      | 267.13   \n",
            "P0083 | 838.0     | 4861.39  \n",
            "P0090 | 503.0     | 1321.78  \n",
            "P0097 | 138.0     | 1506.68  \n",
            "P0099 | 763.0     | 7048.89  \n",
            "P0103 | 122472.0  | 254597.94\n",
            "P0114 | 6447.0    | 2430.84  \n",
            "P0116 | 6745.0    | 4963.97  \n",
            "P0131 | 6210.0    | 12934.36 \n",
            "P0144 | 361.0     | 1551.85  \n",
            "P0147 | 535.0     | 1574.63  \n",
            "P0152 | 81.0      | 1046.38  \n",
            "P0166 | 50.0      | 439.93   \n",
            "P0169 | 593.0     | 2257.85  \n",
            "P0175 | 487.0     | 2175.72  \n",
            "P0177 | 212.0     | 1484.38  \n",
            "P0183 | 241.0     | 1108.49  \n",
            "P0185 | 4135.0    | 3101.25  \n",
            "P0195 | 630.0     | 3278.5   \n",
            "P0196 | 854.0     | 6182.18  \n",
            "P0205 | 57.0      | 583.14   \n",
            "P0206 | 1249.0    | 1851.9   \n",
            "P0212 | 1353.0    | 8704.67  \n",
            "P0213 | 104.0     | 1527.71  \n",
            "P0219 | 1787.0    | 11994.46 \n",
            "P0223 | 738.0     | 4498.26  \n",
            "P0241 | 404.0     | 4810.37  \n",
            "P0249 | 1185.0    | 2096.85  \n",
            "P0272 | 97.0      | 606.68   \n",
            "P0275 | 3119.0    | 6411.0   \n",
            "P0283 | 167.0     | 3199.03  \n",
            "P0286 | 4561.0    | 4213.42  \n",
            "P0296 | 6745.0    | 4614.89  \n",
            "P0298 | 43.96     | 303.09   \n",
            "P0316 | 582.16    | 32283.14 \n",
            "P0327 | 2984.0    | 7826.5   \n",
            "P0351 | 1230.0    | 35102.89 \n",
            "P0361 | 111.0     | 973.18   \n",
            "P0370 | 90.0      | 362.61   \n",
            "P0372 | 4794.0    | 11787.49 \n",
            "P0389 | 782.0     | 5919.12  \n",
            "P0394 | 179.0     | 165.31   \n",
            "P0397 | 245.0     | 2699.89  \n",
            "P0399 | 135.0     | 491.54   \n",
            "P0402 | 960.0     | 5542.83  \n",
            "P0412 | 357.0     | 1942.06  \n",
            "P0413 | 9103.52   | 39169.22 \n",
            "P0415 | 72.0      | 408.41   \n",
            "P0435 | 438.0     | 9235.13  \n",
            "P0436 | 6507.0    | 18804.9  \n",
            "P0437 | 179.0     | 1242.63  \n",
            "P0438 | 78075.0   | 17702.33 \n",
            "P0439 | 1051.0    | 6524.92  \n",
            "P0446 | 986.0     | 5764.18  \n",
            "P0453 | 2288.0    | 7294.76  \n",
            "P0454 | 970.0     | 1677.28  \n",
            "P0458 | 4281.0    | 12990.1  \n",
            "P0459 | 2202.0    | 6340.28  \n",
            "P0470 | 587.0     | 9727.38  \n",
            "P0473 | 97.0      | 2260.25  \n",
            "P0481 | 385.0     | 1890.21  \n",
            "P0499 | 7609.0    | 5158.12  \n",
            "P0506 | 453.0     | 2400.87  \n",
            "P0520 | 799.0     | 2113.92  \n",
            "P0521 | 517.0     | 5188.47  \n",
            "P0536 | 4105.0    | 11414.69 \n",
            "P0561 | 215.03    | 4311.65  \n",
            "P0584 | 1089.0    | 9351.22  \n",
            "P0587 | 1196.0    | 4042.67  \n",
            "P0602 | 438.0     | 3674.82  \n",
            "P0613 | 1129.0    | 6740.46  \n",
            "P0615 | 2101.0    | 31263.66 \n",
            "P0621 | 1220.0    | 5489.76  \n",
            "P0623 | 36.0      | 368.92   \n",
            "P0642 | 3771.0    | 8570.29  \n",
            "P0649 | 168.0     | 302.3    \n",
            "P0656 | 77.0      | 169.83   \n",
            "P0658 | 967.0     | 18417.11 \n",
            "P0660 | 1824.0    | 6853.61  \n",
            "P0664 | 10783.0   | 12380.35 \n",
            "P0681 | 2856.0    | 22139.32 \n",
            "P0682 | 1347.0    | 5302.7   \n",
            "P0684 | 14.0      | 813.47   \n",
            "P0689 | 1456.0    | 29031.44 \n",
            "P0694 | 1274.0    | 5265.44  \n",
            "P0695 | 256.0     | 1168.7   \n",
            "P0718 | 2428.0    | 28859.22 \n",
            "P0721 | 283.0     | 1687.74  \n",
            "P0726 | 4257.0    | 3909.5   \n",
            "P0747 | 1751.0    | 18840.59 \n",
            "P0043 | 2.0       | 31.05    \n",
            "P0062 | 680.0     | 12623.43 \n",
            "P0164 | 81.0      | 1821.44  \n",
            "P0176 | 58.59     | 298.68   \n",
            "P0227 | 29.0      | 232.0    \n",
            "P0237 | 7.0       | 335.02   \n",
            "P0312 | 37.0      | 367.21   \n",
            "P0321 | 110.0     | 842.22   \n",
            "P0343 | 12.0      | 136.34   \n",
            "P0485 | 101.0     | 736.7    \n",
            "P0511 | 33.0      | 873.84   \n",
            "P0581 | 70.0      | 644.88   \n",
            "P0678 | 105.0     | 789.15   \n",
            "P0691 | 82.0      | 246.0    \n",
            "P0699 | 53.0      | 477.0    \n",
            "P0154 | 138.0     | 241.5    \n",
            "P0279 | 57.0      | 905.43   \n",
            "P0341 | 361.0     | 7142.87  \n",
            "P0594 | 19.0      | 329.85   \n",
            "P0616 | 47.0      | 781.14   \n",
            "P0637 | 90.0      | 2116.67  \n",
            "P0693 | 9.0       | 287.67   \n",
            "P0706 | 18.0      | 91.65    \n",
            "P0732 | 139.0     | 836.11   \n",
            "P0080 | 12.0      | 54.36    \n",
            "P0328 | 13.0      | 133.06   \n",
            "P0450 | 10.0      | 110.2    \n",
            "P0471 | 329.0     | 7966.84  \n",
            "P0504 | 102.0     | 1215.1   \n",
            "P0050 | 18.0      | 94.68    \n",
            "P0264 | 13.0      | 79.09    \n",
            "P0466 | 210.0     | 920.53   \n",
            "P0130 | 868.0     | 5606.76  \n",
            "P0151 | 21.0      | 102.35   \n",
            "P0495 | 14.0      | 82.69    \n",
            "P0066 | 6.0       | 13.68    \n",
            "P0160 | 25.0      | 54.34    \n",
            "P0184 | 5.0       | 209.41   \n",
            "P0422 | 6.0       | 105.3    \n",
            "P0061 | 5.0       | 29.83    \n",
            "P0490 | 180.0     | 4427.26  \n",
            "P0513 | 12.0      | 271.87   \n",
            "P0555 | 355.0     | 6333.71  \n",
            "P0643 | 7.0       | 124.37   \n",
            "P0150 | 8.0       | 88.08    \n",
            "P0161 | 12.0      | 64.44    \n",
            "P0679 | 385.0     | 7109.06  \n",
            "P0524 | 161.0     | 1477.49  \n",
            "P0737 | 71.0      | 647.54   \n",
            "P0198 | 8762.0    | 4056.33  \n",
            "P0072 | 17.0      | 46.92    \n",
            "P0666 | 1.0       | 9.24     \n",
            "P0172 | 11.0      | 32.64    \n",
            "P0698 | 2.0       | 8.34     \n",
            "P0465 | 1.0       | 0.54     \n",
            "P0251 | 2.0       | 86.28    \n",
            "P0566 | 1.0       | 1.16     \n",
            "P0337 | 4.0       | 77.51    \n"
          ]
        }
      ]
    },
    {
      "cell_type": "code",
      "source": [
        "# total sales and revenue per store\n",
        "sales_revenue_per_store = cleaned_data.map(lambda x: (x['store_id'], (x['sales'], x['revenue']))) \\\n",
        "                                      .reduceByKey(lambda a,b : (a[0]+b[0], a[1] + b[1]))\n",
        "format_string = f\"{{:<5}} | {{: <9}} | {{:<9}}\"\n",
        "for sales in sales_revenue_per_store.collect():\n",
        "  print(format_string.format(str(product[0]), str(round(product[1][0],2)), str(round(product[1][1], 2))))"
      ],
      "metadata": {
        "colab": {
          "base_uri": "https://localhost:8080/"
        },
        "id": "XGHItyEGVXPS",
        "outputId": "0f8905ec-6dd0-4ef2-fdfc-92aebf29d91b"
      },
      "execution_count": 60,
      "outputs": [
        {
          "output_type": "stream",
          "name": "stdout",
          "text": [
            "P0337 | 4.0       | 77.51    \n",
            "P0337 | 4.0       | 77.51    \n",
            "P0337 | 4.0       | 77.51    \n",
            "P0337 | 4.0       | 77.51    \n",
            "P0337 | 4.0       | 77.51    \n",
            "P0337 | 4.0       | 77.51    \n",
            "P0337 | 4.0       | 77.51    \n",
            "P0337 | 4.0       | 77.51    \n",
            "P0337 | 4.0       | 77.51    \n",
            "P0337 | 4.0       | 77.51    \n",
            "P0337 | 4.0       | 77.51    \n",
            "P0337 | 4.0       | 77.51    \n",
            "P0337 | 4.0       | 77.51    \n",
            "P0337 | 4.0       | 77.51    \n",
            "P0337 | 4.0       | 77.51    \n",
            "P0337 | 4.0       | 77.51    \n",
            "P0337 | 4.0       | 77.51    \n",
            "P0337 | 4.0       | 77.51    \n",
            "P0337 | 4.0       | 77.51    \n",
            "P0337 | 4.0       | 77.51    \n",
            "P0337 | 4.0       | 77.51    \n",
            "P0337 | 4.0       | 77.51    \n",
            "P0337 | 4.0       | 77.51    \n",
            "P0337 | 4.0       | 77.51    \n",
            "P0337 | 4.0       | 77.51    \n",
            "P0337 | 4.0       | 77.51    \n",
            "P0337 | 4.0       | 77.51    \n",
            "P0337 | 4.0       | 77.51    \n",
            "P0337 | 4.0       | 77.51    \n",
            "P0337 | 4.0       | 77.51    \n",
            "P0337 | 4.0       | 77.51    \n",
            "P0337 | 4.0       | 77.51    \n",
            "P0337 | 4.0       | 77.51    \n",
            "P0337 | 4.0       | 77.51    \n",
            "P0337 | 4.0       | 77.51    \n",
            "P0337 | 4.0       | 77.51    \n",
            "P0337 | 4.0       | 77.51    \n",
            "P0337 | 4.0       | 77.51    \n",
            "P0337 | 4.0       | 77.51    \n",
            "P0337 | 4.0       | 77.51    \n",
            "P0337 | 4.0       | 77.51    \n",
            "P0337 | 4.0       | 77.51    \n",
            "P0337 | 4.0       | 77.51    \n",
            "P0337 | 4.0       | 77.51    \n",
            "P0337 | 4.0       | 77.51    \n",
            "P0337 | 4.0       | 77.51    \n",
            "P0337 | 4.0       | 77.51    \n",
            "P0337 | 4.0       | 77.51    \n",
            "P0337 | 4.0       | 77.51    \n",
            "P0337 | 4.0       | 77.51    \n",
            "P0337 | 4.0       | 77.51    \n",
            "P0337 | 4.0       | 77.51    \n",
            "P0337 | 4.0       | 77.51    \n",
            "P0337 | 4.0       | 77.51    \n",
            "P0337 | 4.0       | 77.51    \n",
            "P0337 | 4.0       | 77.51    \n",
            "P0337 | 4.0       | 77.51    \n",
            "P0337 | 4.0       | 77.51    \n",
            "P0337 | 4.0       | 77.51    \n",
            "P0337 | 4.0       | 77.51    \n",
            "P0337 | 4.0       | 77.51    \n",
            "P0337 | 4.0       | 77.51    \n",
            "P0337 | 4.0       | 77.51    \n",
            "P0337 | 4.0       | 77.51    \n",
            "P0337 | 4.0       | 77.51    \n",
            "P0337 | 4.0       | 77.51    \n",
            "P0337 | 4.0       | 77.51    \n",
            "P0337 | 4.0       | 77.51    \n",
            "P0337 | 4.0       | 77.51    \n",
            "P0337 | 4.0       | 77.51    \n",
            "P0337 | 4.0       | 77.51    \n",
            "P0337 | 4.0       | 77.51    \n",
            "P0337 | 4.0       | 77.51    \n",
            "P0337 | 4.0       | 77.51    \n",
            "P0337 | 4.0       | 77.51    \n",
            "P0337 | 4.0       | 77.51    \n",
            "P0337 | 4.0       | 77.51    \n",
            "P0337 | 4.0       | 77.51    \n",
            "P0337 | 4.0       | 77.51    \n",
            "P0337 | 4.0       | 77.51    \n",
            "P0337 | 4.0       | 77.51    \n",
            "P0337 | 4.0       | 77.51    \n",
            "P0337 | 4.0       | 77.51    \n",
            "P0337 | 4.0       | 77.51    \n",
            "P0337 | 4.0       | 77.51    \n",
            "P0337 | 4.0       | 77.51    \n",
            "P0337 | 4.0       | 77.51    \n",
            "P0337 | 4.0       | 77.51    \n",
            "P0337 | 4.0       | 77.51    \n",
            "P0337 | 4.0       | 77.51    \n",
            "P0337 | 4.0       | 77.51    \n",
            "P0337 | 4.0       | 77.51    \n",
            "P0337 | 4.0       | 77.51    \n",
            "P0337 | 4.0       | 77.51    \n",
            "P0337 | 4.0       | 77.51    \n",
            "P0337 | 4.0       | 77.51    \n",
            "P0337 | 4.0       | 77.51    \n",
            "P0337 | 4.0       | 77.51    \n",
            "P0337 | 4.0       | 77.51    \n",
            "P0337 | 4.0       | 77.51    \n",
            "P0337 | 4.0       | 77.51    \n",
            "P0337 | 4.0       | 77.51    \n",
            "P0337 | 4.0       | 77.51    \n",
            "P0337 | 4.0       | 77.51    \n",
            "P0337 | 4.0       | 77.51    \n",
            "P0337 | 4.0       | 77.51    \n",
            "P0337 | 4.0       | 77.51    \n"
          ]
        }
      ]
    },
    {
      "cell_type": "code",
      "source": [
        "# average price per product\n",
        "total_price_per_product = cleaned_data.map(lambda x: (x['product_id'], (x['price'], 1))) \\\n",
        "                                      .reduceByKey(lambda a, b : (a[0]+b[0], a[1]+b[1]))"
      ],
      "metadata": {
        "id": "6rLOjujLaMTl"
      },
      "execution_count": 51,
      "outputs": []
    },
    {
      "cell_type": "code",
      "source": [
        "avg_price_per_product = total_price_per_product.mapValues(lambda x : x[0]/x[1])"
      ],
      "metadata": {
        "id": "6TYkFYYEaqIc"
      },
      "execution_count": 52,
      "outputs": []
    },
    {
      "cell_type": "code",
      "source": [
        "avg_price_per_product"
      ],
      "metadata": {
        "colab": {
          "base_uri": "https://localhost:8080/"
        },
        "id": "RXEm63tbaxss",
        "outputId": "68a91c98-0fec-413b-8673-ad79b2fe15bb"
      },
      "execution_count": 53,
      "outputs": [
        {
          "output_type": "execute_result",
          "data": {
            "text/plain": [
              "PythonRDD[30] at RDD at PythonRDD.scala:53"
            ]
          },
          "metadata": {},
          "execution_count": 53
        }
      ]
    },
    {
      "cell_type": "code",
      "source": [
        "#sales revenue per promotion type\n",
        "sales_revenue_per_promo_1 = cleaned_data.map(lambda x: (x['promo_type_1'], (x['sales'], x['revenue']))) \\\n",
        "                                        .reduceByKey(lambda a, b: (a[0] + b[0], a[1] + b[1]))\n",
        "sales_revenue_per_promo_2 = cleaned_data.map(lambda x: (x['promo_type_2'], (x['sales'], x['revenue']))) \\\n",
        "                                        .reduceByKey(lambda a, b: (a[0] + b[0], a[1] + b[1]))"
      ],
      "metadata": {
        "id": "jN_1lapsaybb"
      },
      "execution_count": 54,
      "outputs": []
    },
    {
      "cell_type": "code",
      "source": [
        "# stock analysis per product\n",
        "stock_per_product = cleaned_data.map(lambda x: (x['product_id'], x['stock'])) \\\n",
        "                                .reduceByKey(lambda a,b : a + b)"
      ],
      "metadata": {
        "id": "XjC7PBU3a-Aa"
      },
      "execution_count": 55,
      "outputs": []
    },
    {
      "cell_type": "markdown",
      "source": [
        "# Saving the result as HDFS"
      ],
      "metadata": {
        "id": "TJxnmh0PbZ0t"
      }
    },
    {
      "cell_type": "code",
      "source": [
        "sales_revenue_per_product.saveAsTextFile(\"sales_revenue_per_product\")\n",
        "sales_revenue_per_store.saveAsTextFile(\"sales_revenue_per_store\")\n",
        "total_price_per_product.saveAsTextFile(\"total_price_per_product\")\n",
        "avg_price_per_product.saveAsTextFile(\"avg_price_per_product\")\n",
        "sales_revenue_per_promo_1.saveAsTextFile(\"sales_revenue_per_promo_1\")\n",
        "sales_revenue_per_promo_2.saveAsTextFile(\"sales_revenue_per_promo_2\")\n",
        "stock_per_product.saveAsTextFile(\"stock_per_product\")"
      ],
      "metadata": {
        "id": "CO422bpwbXyv"
      },
      "execution_count": 56,
      "outputs": []
    },
    {
      "cell_type": "code",
      "source": [
        "sc.stop()"
      ],
      "metadata": {
        "id": "1Wag6OtScEDA"
      },
      "execution_count": 61,
      "outputs": []
    },
    {
      "cell_type": "code",
      "source": [],
      "metadata": {
        "id": "_Q86pwOvdxzO"
      },
      "execution_count": null,
      "outputs": []
    }
  ]
}